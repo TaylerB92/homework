{
 "cells": [
  {
   "cell_type": "markdown",
   "metadata": {},
   "source": [
    "1. What is an algorithm?\n",
    "\n",
    "# An Algorithm is a series of steps to solve a problem at hand\n",
    "\n",
    "---\n",
    "\n",
    "2. Variable names may not start with certain characters - name two.\n",
    "\n",
    "###### Variable names can not start with a number or a special character \n",
    "\n",
    "---\n",
    "\n",
    "3. What is a Semantic error?\n",
    "\n",
    "_A Semantic error is grammatically correct but doesn't make any sense; it does not produce the expected results_\n",
    "\n",
    "---\n",
    "\n",
    "4. What is the #1 rule of coding / debugging?\n",
    "\n",
    "**Complexity is the enemy of efficiency**\n",
    "\n",
    "---\n",
    "\n",
    "5. List 5 Python reserved words.\n",
    "\n",
    "    * Not\n",
    "    * Or\n",
    "    * Try\n",
    "    * Lambda\n",
    "    * With\n",
    "\n",
    "\n",
    "\n"
   ]
  },
  {
   "cell_type": "code",
   "execution_count": 8,
   "metadata": {},
   "outputs": [
    {
     "name": "stdout",
     "output_type": "stream",
     "text": [
      "Tayler, Sushi, Data Analyst\n",
      "{'name': 'Tayler', 'Sex': 'Female'}\n",
      "rning Data Analytic\n",
      "Learning Data Analytics and Python is Great!\n",
      "Hi my name is Tayler, I am 5 foot 4 inches and 32 years old today.\n",
      "32.0\n"
     ]
    }
   ],
   "source": [
    "bio = \"Tayler, Sushi, Data Analyst\"\n",
    "print(bio)\n",
    "\n",
    "day = (\"Good Afternoon Professor\")\n",
    "num = (32)\n",
    "dec = (13.3)\n",
    "col = [\"Red, Orange, Yellow\"]\n",
    "disc = {'name' : 'Tayler' , 'Sex' : 'Female'}\n",
    "print(disc)\n",
    "\n",
    "savvy = \"Learning Data Analytics and Python is Awesome!\"\n",
    "s = (\"slice\")\n",
    "print(savvy[3:22])\n",
    "savvy = savvy.replace(\"Awesome\", \"Great\")\n",
    "print(savvy)\n",
    "\n",
    "name = \"Tayler\"\n",
    "age = \"32\"\n",
    "length = \"5 foot 4 inches\"\n",
    "miniBio = \"Hi my name is \"+ name +\", I am \"+ length +\" and \"+ age +\" years old today.\"\n",
    "print(miniBio)\n",
    "\n",
    "age_float = float(age)\n",
    "print(age_float)\n",
    "\n"
   ]
  },
  {
   "cell_type": "code",
   "execution_count": 72,
   "metadata": {},
   "outputs": [
    {
     "name": "stdout",
     "output_type": "stream",
     "text": [
      "[5.8, 'bacon and eggs']\n",
      "[3, 65, 88, 140, 721, 'virgo', 'libra', 'sagittarius', 'capricorn', 'aries']\n",
      "[3, 65, 88, 140, 721, 'virgo', 'libra', 'sagittarius', 'capricorn', 'aries', 'Red', 'Orange', 'Black', 'Pink', 'Turquoise']\n"
     ]
    }
   ],
   "source": [
    "list = [222, 'brittany', [5, 10, 15], 5.8, 'bacon and eggs']\n",
    "list[0:3] = [333 , 2]\n",
    "list.append(\"bananas\")\n",
    "list.append(7)\n",
    "list.append(5.5)\n",
    "second_list =list [2:4]\n",
    "print(second_list)\n",
    "list.extend(second_list)\n",
    "\n",
    "simList = [140, 65, 3, 721, 88]\n",
    "simList.sort()\n",
    "\n",
    "zodiacList = (\"virgo\", \"libra\", \"sagittarius\", \"capricorn\", \"aries\")\n",
    "simList.extend(zodiacList)\n",
    "print(simList)\n",
    "\n",
    "colorList = (\"Red\", \"Orange\", \"Black\", \"Pink\", \"Turquoise\")\n",
    "simList.extend(colorList)\n",
    "print(simList)\n",
    "\n",
    "\n",
    "\n"
   ]
  },
  {
   "cell_type": "code",
   "execution_count": 19,
   "metadata": {},
   "outputs": [
    {
     "name": "stdout",
     "output_type": "stream",
     "text": [
      "('a', 'b', 'c', 'd', 'e', 'a', 'b', 'c', 'd', 'e', 'a', 'b', 'c', 'd', 'e')\n",
      "c\n",
      "<class 'tuple'>\n",
      "Fish\n",
      "Chicken\n",
      "Beef\n",
      "Pork\n",
      "[50]\n",
      "('a', 'b', 'c', 'd', 'e', 'a', 'b', 'c', 'd', 'e', 'a', 'b', 'c', 'd', 'e', 'Fish', 'Chicken', 'Beef', 'Pork')\n"
     ]
    }
   ],
   "source": [
    "tup1 = (\"a\", \"b\", \"c\", \"d\", \"e\")\n",
    "tup2= (\"Fish\", \"Chicken\", \"Beef\", \"Pork\", \"Lamb\")\n",
    "tup2=tup1 * 3\n",
    "print(tup2)\n",
    "print(tup2[12])\n",
    "\n",
    "sorted_= tuple(sorted(tup2))\n",
    "print(type(tup2))\n",
    "\n",
    "tup3 = (\"Fish\", \"Chicken\", \"Beef\", \"Pork\")\n",
    "print(tup3[0])\n",
    "print(tup3[1])\n",
    "print(tup3[2])\n",
    "print(tup3[3])\n",
    "\n",
    "tup4 = [50,]\n",
    "print(tup4)\n",
    "\n",
    "tup5 = (tup2 + tup3)\n",
    "print(tup5)\n",
    "\n",
    "\n"
   ]
  },
  {
   "cell_type": "code",
   "execution_count": 7,
   "metadata": {},
   "outputs": [
    {
     "name": "stdout",
     "output_type": "stream",
     "text": [
      "['Paige', 'Lisa', 'Josh', 'Strawberry', 'Kiwi', 'Apple', 'Grape', 'Peach']\n",
      "['Paige', 'Lisa', 'Josh', 'Strawberry', 'Kiwi', 'Apple', 'Grape', 'Honda', 'Jeep', 'Ford', 'Pen', 1, 'Good Night']\n",
      "[]\n",
      "['Ford']\n"
     ]
    }
   ],
   "source": [
    "list = [\"Paige\", \"Lisa\", \"Josh\"]\n",
    "fruit = (\"Strawberry\", \"Kiwi\", \"Apple\", \"Grape\", \"Peach\")\n",
    "list.extend(fruit)\n",
    "print(list)\n",
    "\n",
    "\n",
    "car = [\"Honda\", \"Jeep\", \"Ford\"]\n",
    "list.extend(car)\n",
    "\n",
    "odd = (\"Pen\", 1, \"Good Night\")\n",
    "list.extend(odd)\n",
    "list.pop(7)\n",
    "print(list)\n",
    "\n",
    "list.clear()\n",
    "print(list)\n",
    "\n",
    "car.remove(\"Jeep\")\n",
    "car.pop(0)\n",
    "print(car)\n",
    "\n",
    "\n"
   ]
  },
  {
   "cell_type": "code",
   "execution_count": 77,
   "metadata": {},
   "outputs": [
    {
     "name": "stdout",
     "output_type": "stream",
     "text": [
      "['Mississippi', 'Texas', 'Maine']\n",
      "Keys: dict_keys(['Text', 'Numeric', 'Sequence', 'String', 'Decimal', 'Favorite color', 'newList'])\n",
      "Values: dict_values(['Tayler', 20, ['Mississippi', 'Texas', 'Maine'], 'HI, How are you?', 98.7, 'Red', ('Football', 'Basketball', 'Hockey')])\n",
      "{'Text': 'Tayler', 'Numeric': 20, 'Sequence': ['Mississippi', 'Texas', 'Maine'], 'String': 'HI, How are you?', 'Decimal': 98.7, 'Favorite color': 'Red', 'newList': ('Football', 'Basketball', 'Hockey')}\n",
      "{'Numeric': 20, 'Sequence': ['Mississippi', 'Texas', 'Maine'], 'String': 'HI, How are you?', 'Decimal': 98.7, 'Favorite color': 'Red', 'newList': ('Football', 'Basketball', 'Hockey')}\n",
      "{}\n"
     ]
    }
   ],
   "source": [
    "newDict = {'Text': 'Apple', 'Numeric' : 20 , 'Sequence': ['Mississippi', 'Texas', 'Maine'], 'String': 'HI, How are you?', 'Decimal': 98.7}\n",
    "print(newDict['Sequence'])\n",
    "newDict['Text'] = 'Tayler'\n",
    "newDict['Favorite color'] = \"Red\"\n",
    "newDict[\"newList\"] = ('Football', 'Basketball', 'Hockey')\n",
    "\n",
    "\n",
    "\n",
    "print(\"Keys:\", (newDict.keys()))\n",
    "print(\"Values:\", (newDict.values()))\n",
    "dict = 'currentDict'\n",
    "currentDict = newDict\n",
    "print(currentDict)\n",
    "currentDict.pop('Text')\n",
    "print(currentDict)\n",
    "currentDict.clear()\n",
    "print(currentDict)\n",
    "\n",
    "\n",
    "\n",
    "\n",
    "\n",
    "\n",
    "\n"
   ]
  }
 ],
 "metadata": {
  "kernelspec": {
   "display_name": "Python 3",
   "language": "python",
   "name": "python3"
  },
  "language_info": {
   "codemirror_mode": {
    "name": "ipython",
    "version": 3
   },
   "file_extension": ".py",
   "mimetype": "text/x-python",
   "name": "python",
   "nbconvert_exporter": "python",
   "pygments_lexer": "ipython3",
   "version": "3.12.7"
  }
 },
 "nbformat": 4,
 "nbformat_minor": 2
}
