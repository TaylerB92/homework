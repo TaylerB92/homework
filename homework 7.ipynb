{
 "cells": [
  {
   "cell_type": "markdown",
   "metadata": {},
   "source": [
    "1. Using EVregistry, Write a query to select the ModelYear, Make, and Model off all of the vehicles in the registry."
   ]
  },
  {
   "cell_type": "code",
   "execution_count": null,
   "metadata": {},
   "outputs": [],
   "source": [
    "SELECT \"ModelYear\", \"Make\", \"Model\"\n",
    "From EVRegistry"
   ]
  },
  {
   "cell_type": "markdown",
   "metadata": {},
   "source": [
    "2. Using the EVRegistry table, Write a query that lists all of the unique types of EV's. your reult set should have one column, ElectricVehicleType."
   ]
  },
  {
   "cell_type": "code",
   "execution_count": null,
   "metadata": {},
   "outputs": [],
   "source": [
    "Select DISTINCT \"ElectricVehicleType\"\n",
    "From EVRegistry;"
   ]
  },
  {
   "cell_type": "markdown",
   "metadata": {},
   "source": [
    "3. Using the EVRegistry, Write a query that shows all of the information on Battery Electric Vehicles (BEV) that are in the registry."
   ]
  },
  {
   "cell_type": "code",
   "execution_count": null,
   "metadata": {},
   "outputs": [],
   "source": [
    "SELECT *\n",
    "FROM EVRegistry\n",
    "WHERE ElectricVehicleType = 'Battery Electric zzzzzveBEV';"
   ]
  },
  {
   "cell_type": "markdown",
   "metadata": {},
   "source": [
    "4. Using the EVRegistry, wirte a query that returns the Make and Model of all of the EV's that have a BaseMSRP between 20000 and 35000?"
   ]
  },
  {
   "cell_type": "code",
   "execution_count": null,
   "metadata": {},
   "outputs": [],
   "source": [
    "SELECT \"Make\", \"Model\"\n",
    "From EVRegistry\n",
    "WHERE BaseMSRP BETWEEN 20000 AND 35000;"
   ]
  },
  {
   "cell_type": "markdown",
   "metadata": {},
   "source": [
    "**Section 2**"
   ]
  },
  {
   "cell_type": "markdown",
   "metadata": {},
   "source": [
    "1.Using EVRegistry, write a query to find a record where the City attribute is NULL. Return all of the available columns."
   ]
  },
  {
   "cell_type": "code",
   "execution_count": null,
   "metadata": {},
   "outputs": [],
   "source": [
    "select *\n",
    "from EVRegistry\n",
    "where \"city\" is NULL;"
   ]
  },
  {
   "cell_type": "markdown",
   "metadata": {},
   "source": [
    "2.Write a query to find the make, model, and ElectricVehicleType where the VIN number has that ends in '3E1EA1J'."
   ]
  },
  {
   "cell_type": "code",
   "execution_count": null,
   "metadata": {},
   "outputs": [],
   "source": [
    "Select\" Make\", \"Model\", ElectricVehicleType\n",
    "From EVRegistry\n",
    "Where \"VIN\" like '%3E1EA1J';"
   ]
  },
  {
   "cell_type": "code",
   "execution_count": null,
   "metadata": {},
   "outputs": [],
   "source": [
    "3.Select the ModelYear, make, model, ElectricVehicleType, and range of the Tesla vehicles or cheverolet vehicles in the registry. Order the result set by Make and Model year in from newest to oldest."
   ]
  },
  {
   "cell_type": "code",
   "execution_count": null,
   "metadata": {},
   "outputs": [],
   "source": [
    "Select \"ModelYear\", \"Make\", \"Model\", \"ElectricVehicleType\", \"ElectricRange\"\n",
    "From EVRegistry\n",
    "Where \"Make\" is \"TESLA\" or Make is \"CHEVROLET\"\n",
    "Order By \"Make\", \"ModelYear\" DESC;"
   ]
  },
  {
   "cell_type": "markdown",
   "metadata": {},
   "source": [
    "4.Using EVCharging, Write a query to find out how many many times those stations were used. Order them by the most used to the least used and limit the output to 5 records."
   ]
  },
  {
   "cell_type": "code",
   "execution_count": null,
   "metadata": {},
   "outputs": [],
   "source": [
    "Select  \"stationId\", count(*) as \"Times Used\"\n",
    "From EVCharging\n",
    "Group By \"stationId\"\n",
    "Order By \"Times Used\" DESC\n",
    "Limit 5;"
   ]
  },
  {
   "cell_type": "markdown",
   "metadata": {},
   "source": [
    "5.Using EVCharging, For the folks who charged longer than 0.5 hours, show the min and max of the charging time for each user. Your output columns should be userid, minTime, and maxTime. Order this result set by the last two columns respectively."
   ]
  },
  {
   "cell_type": "code",
   "execution_count": null,
   "metadata": {},
   "outputs": [],
   "source": [
    "SELECT \"userId\", MIN(\"chargeTimeHrs\") as \"minTime\", MAX(\"chargeTimeHrs\") as \"maxTime\" \n",
    "FROM EVCharging\n",
    "WHERE \"chargeTimeHrs\" > 0.5\n",
    "GROUP BY \"userId\"\n",
    "ORDER BY \"minTime\", \"maxTime\""
   ]
  },
  {
   "cell_type": "markdown",
   "metadata": {},
   "source": [
    "**SECTION 3**"
   ]
  },
  {
   "cell_type": "markdown",
   "metadata": {},
   "source": [
    "1. Using EVCharging, Which day of the week has the highest average charging time? Round the answer to 2 decimal points."
   ]
  },
  {
   "cell_type": "code",
   "execution_count": null,
   "metadata": {},
   "outputs": [],
   "source": [
    "SELECT weekday, ROUND(AVG(chargeTimeHrs), 2) as avgChargeTime\n",
    "FROM EVCharging\n",
    "GROUP BY weekday\n",
    "ORDER BY avgChargeTime DESC\n",
    "LIMIT 1;"
   ]
  },
  {
   "cell_type": "code",
   "execution_count": null,
   "metadata": {},
   "outputs": [],
   "source": [
    "2. Using, EV charging, Find the total power consumed from charging EV's by each User. Return the `userId` and name the calculated column, `totalPower`. Round the answer to 2 deciaml points and list the out put in highest to lowest order. Limit the order to the top 15 users."
   ]
  },
  {
   "cell_type": "code",
   "execution_count": null,
   "metadata": {},
   "outputs": [],
   "source": [
    "SELECT userId, ROUND(SUM(kwhTotal), 2) as totalPower\n",
    "From EVCharging\n",
    "GROUP BY userId\n",
    "ORDER BY totalPower DESC\n",
    "LIMIT 15;"
   ]
  },
  {
   "cell_type": "markdown",
   "metadata": {},
   "source": [
    "3. Using dimfacility and factCharge, write a query to find out which type of facility (GROUP BY) has the most amount of charging stations. Return `type Facility` and name the calculated column `numStation`. Order the result set from highest to lowest number of charging stations. "
   ]
  },
  {
   "cell_type": "code",
   "execution_count": null,
   "metadata": {},
   "outputs": [],
   "source": [
    "SELECT dimFacility.typeFacility, COUNT(DISTINCT factCharge.stationId) as numStation\n",
    "FROM factCharge\n",
    "INNER JOIN dimFacility\n",
    "ON factCharge.facilityID = dimFacility.FacilityKey\n",
    "GROUP BY dimFacility.typeFacility\n",
    "ORDER BY numStation DESC; "
   ]
  },
  {
   "cell_type": "markdown",
   "metadata": {},
   "source": [
    "4. In your own words, Briefly explain Primary Keys and Foreign Keys."
   ]
  },
  {
   "cell_type": "markdown",
   "metadata": {},
   "source": [
    "\n",
    "A Primary Key is a unique identifier that makes sure each row in a table is different from every other row. A Foreign Key is a connection between two tables, linking one table to another by referring to the Primary Key in a different table."
   ]
  },
  {
   "cell_type": "markdown",
   "metadata": {},
   "source": [
    "5. Using EV Charging, For the folks who charged longer than one hour, show the min and max of the charging time for each user. Your output columns should be `userid`, `minTime`, and `maxTime`. Order this result set by the last two columns respectively. HINT: USE `HAVING`\n"
   ]
  },
  {
   "cell_type": "code",
   "execution_count": null,
   "metadata": {},
   "outputs": [],
   "source": [
    "SELECT userId, MIN(chargeTimeHrs) as minTime, MAX(chargeTimeHrs) as maxTime\n",
    "FROM EVCharging\n",
    "GROUP BY userId\n",
    "HAVING maxTime > 1 AND minTime > 1\n",
    "ORDER BY minTime, maxTime;"
   ]
  }
 ],
 "metadata": {
  "kernelspec": {
   "display_name": "Python 3",
   "language": "python",
   "name": "python3"
  },
  "language_info": {
   "name": "python",
   "version": "3.12.7"
  }
 },
 "nbformat": 4,
 "nbformat_minor": 2
}
